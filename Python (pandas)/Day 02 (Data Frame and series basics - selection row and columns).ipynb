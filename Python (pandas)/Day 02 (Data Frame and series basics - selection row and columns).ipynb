{
 "cells": [
  {
   "cell_type": "markdown",
   "id": "20db4e39-850c-42f7-8b9d-1a5b53999836",
   "metadata": {},
   "source": [
    "# Data Frame and series basics - selection row and columns"
   ]
  },
  {
   "cell_type": "code",
   "execution_count": 1,
   "id": "8d52e9a4-b283-4271-96bd-2d2f7075d61d",
   "metadata": {},
   "outputs": [],
   "source": [
    "import pandas as pd"
   ]
  },
  {
   "cell_type": "code",
   "execution_count": 2,
   "id": "b3cb986c-cc1c-4209-9d69-3ae0c67b7fc6",
   "metadata": {},
   "outputs": [
    {
     "data": {
      "text/html": [
       "<div>\n",
       "<style scoped>\n",
       "    .dataframe tbody tr th:only-of-type {\n",
       "        vertical-align: middle;\n",
       "    }\n",
       "\n",
       "    .dataframe tbody tr th {\n",
       "        vertical-align: top;\n",
       "    }\n",
       "\n",
       "    .dataframe thead th {\n",
       "        text-align: right;\n",
       "    }\n",
       "</style>\n",
       "<table border=\"1\" class=\"dataframe\">\n",
       "  <thead>\n",
       "    <tr style=\"text-align: right;\">\n",
       "      <th></th>\n",
       "      <th>EmployeeID</th>\n",
       "      <th>Name</th>\n",
       "      <th>Age</th>\n",
       "      <th>Gender</th>\n",
       "      <th>Department</th>\n",
       "      <th>JobTitle</th>\n",
       "      <th>Salary</th>\n",
       "      <th>DateOfJoining</th>\n",
       "      <th>MaritalStatus</th>\n",
       "      <th>Education</th>\n",
       "      <th>...</th>\n",
       "      <th>Email</th>\n",
       "      <th>PhoneNumber</th>\n",
       "      <th>City</th>\n",
       "      <th>EmploymentType</th>\n",
       "      <th>IsRemote</th>\n",
       "      <th>LastWorkingDay</th>\n",
       "      <th>LeavesTakenLastYear</th>\n",
       "      <th>ProjectsHandled</th>\n",
       "      <th>Certifications</th>\n",
       "      <th>PromotionEligible</th>\n",
       "    </tr>\n",
       "  </thead>\n",
       "  <tbody>\n",
       "    <tr>\n",
       "      <th>0</th>\n",
       "      <td>1000</td>\n",
       "      <td>George Williams</td>\n",
       "      <td>50</td>\n",
       "      <td>Male</td>\n",
       "      <td>HR</td>\n",
       "      <td>Consultant</td>\n",
       "      <td>65057</td>\n",
       "      <td>10/8/2017</td>\n",
       "      <td>Single</td>\n",
       "      <td>Master</td>\n",
       "      <td>...</td>\n",
       "      <td>george.williams@corporate.org</td>\n",
       "      <td>1762717327</td>\n",
       "      <td>Dhaka</td>\n",
       "      <td>Contract</td>\n",
       "      <td>No</td>\n",
       "      <td>16:21.8</td>\n",
       "      <td>18</td>\n",
       "      <td>1</td>\n",
       "      <td>AWS</td>\n",
       "      <td>Yes</td>\n",
       "    </tr>\n",
       "    <tr>\n",
       "      <th>1</th>\n",
       "      <td>1001</td>\n",
       "      <td>Jane Brown</td>\n",
       "      <td>36</td>\n",
       "      <td>Female</td>\n",
       "      <td>Sales</td>\n",
       "      <td>Executive</td>\n",
       "      <td>31239</td>\n",
       "      <td>3/7/2021</td>\n",
       "      <td>Single</td>\n",
       "      <td>PhD</td>\n",
       "      <td>...</td>\n",
       "      <td>jane.brown@corporate.org</td>\n",
       "      <td>1566784995</td>\n",
       "      <td>Sylhet</td>\n",
       "      <td>Part-time</td>\n",
       "      <td>No</td>\n",
       "      <td>54:32.7</td>\n",
       "      <td>10</td>\n",
       "      <td>5</td>\n",
       "      <td>Scrum Master</td>\n",
       "      <td>Yes</td>\n",
       "    </tr>\n",
       "    <tr>\n",
       "      <th>2</th>\n",
       "      <td>1002</td>\n",
       "      <td>George Johnson</td>\n",
       "      <td>29</td>\n",
       "      <td>Female</td>\n",
       "      <td>Support</td>\n",
       "      <td>Manager</td>\n",
       "      <td>95661</td>\n",
       "      <td>9/27/2016</td>\n",
       "      <td>Single</td>\n",
       "      <td>High School</td>\n",
       "      <td>...</td>\n",
       "      <td>george.johnson@corporate.org</td>\n",
       "      <td>1348371389</td>\n",
       "      <td>Rajshahi</td>\n",
       "      <td>Full-time</td>\n",
       "      <td>Yes</td>\n",
       "      <td>54:32.7</td>\n",
       "      <td>17</td>\n",
       "      <td>9</td>\n",
       "      <td>AWS</td>\n",
       "      <td>Yes</td>\n",
       "    </tr>\n",
       "    <tr>\n",
       "      <th>3</th>\n",
       "      <td>1003</td>\n",
       "      <td>Hannah Williams</td>\n",
       "      <td>42</td>\n",
       "      <td>Other</td>\n",
       "      <td>Engineering</td>\n",
       "      <td>Manager</td>\n",
       "      <td>75272</td>\n",
       "      <td>11/18/2018</td>\n",
       "      <td>Single</td>\n",
       "      <td>PhD</td>\n",
       "      <td>...</td>\n",
       "      <td>hannah.williams@corporate.org</td>\n",
       "      <td>1564436727</td>\n",
       "      <td>Barisal</td>\n",
       "      <td>Full-time</td>\n",
       "      <td>No</td>\n",
       "      <td>16:21.8</td>\n",
       "      <td>3</td>\n",
       "      <td>3</td>\n",
       "      <td>Data Analyst</td>\n",
       "      <td>Yes</td>\n",
       "    </tr>\n",
       "    <tr>\n",
       "      <th>4</th>\n",
       "      <td>1004</td>\n",
       "      <td>George Davis</td>\n",
       "      <td>40</td>\n",
       "      <td>Other</td>\n",
       "      <td>IT</td>\n",
       "      <td>Developer</td>\n",
       "      <td>119393</td>\n",
       "      <td>3/14/2019</td>\n",
       "      <td>Married</td>\n",
       "      <td>Master</td>\n",
       "      <td>...</td>\n",
       "      <td>george.davis@example.com</td>\n",
       "      <td>1130130576</td>\n",
       "      <td>Dhaka</td>\n",
       "      <td>Part-time</td>\n",
       "      <td>Yes</td>\n",
       "      <td>27:16.4</td>\n",
       "      <td>15</td>\n",
       "      <td>4</td>\n",
       "      <td>Scrum Master</td>\n",
       "      <td>No</td>\n",
       "    </tr>\n",
       "  </tbody>\n",
       "</table>\n",
       "<p>5 rows × 25 columns</p>\n",
       "</div>"
      ],
      "text/plain": [
       "   EmployeeID             Name  Age  Gender   Department    JobTitle  Salary  \\\n",
       "0        1000  George Williams   50    Male           HR  Consultant   65057   \n",
       "1        1001       Jane Brown   36  Female        Sales   Executive   31239   \n",
       "2        1002   George Johnson   29  Female      Support     Manager   95661   \n",
       "3        1003  Hannah Williams   42   Other  Engineering     Manager   75272   \n",
       "4        1004     George Davis   40   Other           IT   Developer  119393   \n",
       "\n",
       "  DateOfJoining MaritalStatus    Education  ...  \\\n",
       "0     10/8/2017        Single       Master  ...   \n",
       "1      3/7/2021        Single          PhD  ...   \n",
       "2     9/27/2016        Single  High School  ...   \n",
       "3    11/18/2018        Single          PhD  ...   \n",
       "4     3/14/2019       Married       Master  ...   \n",
       "\n",
       "                           Email  PhoneNumber      City EmploymentType  \\\n",
       "0  george.williams@corporate.org   1762717327     Dhaka       Contract   \n",
       "1       jane.brown@corporate.org   1566784995    Sylhet      Part-time   \n",
       "2   george.johnson@corporate.org   1348371389  Rajshahi      Full-time   \n",
       "3  hannah.williams@corporate.org   1564436727   Barisal      Full-time   \n",
       "4       george.davis@example.com   1130130576     Dhaka      Part-time   \n",
       "\n",
       "  IsRemote LastWorkingDay  LeavesTakenLastYear ProjectsHandled Certifications  \\\n",
       "0       No        16:21.8                   18               1            AWS   \n",
       "1       No        54:32.7                   10               5   Scrum Master   \n",
       "2      Yes        54:32.7                   17               9            AWS   \n",
       "3       No        16:21.8                    3               3   Data Analyst   \n",
       "4      Yes        27:16.4                   15               4   Scrum Master   \n",
       "\n",
       "  PromotionEligible  \n",
       "0               Yes  \n",
       "1               Yes  \n",
       "2               Yes  \n",
       "3               Yes  \n",
       "4                No  \n",
       "\n",
       "[5 rows x 25 columns]"
      ]
     },
     "execution_count": 2,
     "metadata": {},
     "output_type": "execute_result"
    }
   ],
   "source": [
    "df = pd.read_csv(\"employee_data.csv\")\n",
    "df.head()"
   ]
  },
  {
   "cell_type": "code",
   "execution_count": 3,
   "id": "8b9ae46c-2cf3-476d-af24-b614f741ee1f",
   "metadata": {},
   "outputs": [
    {
     "data": {
      "text/plain": [
       "(550, 25)"
      ]
     },
     "execution_count": 3,
     "metadata": {},
     "output_type": "execute_result"
    }
   ],
   "source": [
    "df.shape"
   ]
  },
  {
   "cell_type": "code",
   "execution_count": 4,
   "id": "95b35b70-34ee-4dca-883f-039274b710cf",
   "metadata": {},
   "outputs": [
    {
     "data": {
      "text/plain": [
       "Index(['EmployeeID', 'Name', 'Age', 'Gender', 'Department', 'JobTitle',\n",
       "       'Salary', 'DateOfJoining', 'MaritalStatus', 'Education', 'OverTime',\n",
       "       'MonthlyIncome', 'Hobbies', 'ProgrammingSkills', 'Religion', 'Email',\n",
       "       'PhoneNumber', 'City', 'EmploymentType', 'IsRemote', 'LastWorkingDay',\n",
       "       'LeavesTakenLastYear', 'ProjectsHandled', 'Certifications',\n",
       "       'PromotionEligible'],\n",
       "      dtype='object')"
      ]
     },
     "execution_count": 4,
     "metadata": {},
     "output_type": "execute_result"
    }
   ],
   "source": [
    "df.columns"
   ]
  },
  {
   "cell_type": "code",
   "execution_count": 5,
   "id": "27287c33-2c4c-4576-b308-bbd3e59e7ce6",
   "metadata": {},
   "outputs": [
    {
     "data": {
      "text/plain": [
       "0               HR\n",
       "1            Sales\n",
       "2          Support\n",
       "3      Engineering\n",
       "4               IT\n",
       "          ...     \n",
       "545    Engineering\n",
       "546      Logistics\n",
       "547    Engineering\n",
       "548             IT\n",
       "549          Sales\n",
       "Name: Department, Length: 550, dtype: object"
      ]
     },
     "execution_count": 5,
     "metadata": {},
     "output_type": "execute_result"
    }
   ],
   "source": [
    "df['Department']"
   ]
  },
  {
   "cell_type": "code",
   "execution_count": 6,
   "id": "9d712886-4aa0-42db-b764-ecbe1098691f",
   "metadata": {},
   "outputs": [
    {
     "data": {
      "text/plain": [
       "Department\n",
       "Finance        76\n",
       "HR             75\n",
       "Sales          73\n",
       "Support        71\n",
       "Engineering    71\n",
       "IT             68\n",
       "Logistics      62\n",
       "Marketing      54\n",
       "Name: count, dtype: int64"
      ]
     },
     "execution_count": 6,
     "metadata": {},
     "output_type": "execute_result"
    }
   ],
   "source": [
    "df['Department'].value_counts()"
   ]
  },
  {
   "cell_type": "code",
   "execution_count": null,
   "id": "2cf879c9-82d2-4358-91cb-f5bd668efd79",
   "metadata": {},
   "outputs": [],
   "source": []
  },
  {
   "cell_type": "code",
   "execution_count": 7,
   "id": "43b45c01-c50a-4160-b473-1e04b5e27314",
   "metadata": {},
   "outputs": [
    {
     "data": {
      "text/plain": [
       "EmployeeID                                      1000\n",
       "Name                                 George Williams\n",
       "Age                                               50\n",
       "Gender                                          Male\n",
       "Department                                        HR\n",
       "JobTitle                                  Consultant\n",
       "Salary                                         65057\n",
       "DateOfJoining                              10/8/2017\n",
       "MaritalStatus                                 Single\n",
       "Education                                     Master\n",
       "OverTime                                         Yes\n",
       "MonthlyIncome                                   6705\n",
       "Hobbies                              Gaming, Cooking\n",
       "ProgrammingSkills                       Go, SQL, PHP\n",
       "Religion                                    Buddhism\n",
       "Email                  george.williams@corporate.org\n",
       "PhoneNumber                               1762717327\n",
       "City                                           Dhaka\n",
       "EmploymentType                              Contract\n",
       "IsRemote                                          No\n",
       "LastWorkingDay                               16:21.8\n",
       "LeavesTakenLastYear                               18\n",
       "ProjectsHandled                                    1\n",
       "Certifications                                   AWS\n",
       "PromotionEligible                                Yes\n",
       "Name: 0, dtype: object"
      ]
     },
     "execution_count": 7,
     "metadata": {},
     "output_type": "execute_result"
    }
   ],
   "source": [
    "df.loc[0]"
   ]
  },
  {
   "cell_type": "code",
   "execution_count": 8,
   "id": "7541c83b-4b31-4e43-afb6-3d297486b318",
   "metadata": {},
   "outputs": [
    {
     "data": {
      "text/plain": [
       "'HR'"
      ]
     },
     "execution_count": 8,
     "metadata": {},
     "output_type": "execute_result"
    }
   ],
   "source": [
    "df.loc[0, 'Department']"
   ]
  },
  {
   "cell_type": "code",
   "execution_count": 9,
   "id": "5c68aafd-d26f-45d6-b9e4-1533198c2a76",
   "metadata": {},
   "outputs": [
    {
     "data": {
      "text/plain": [
       "0             HR\n",
       "1          Sales\n",
       "2        Support\n",
       "3    Engineering\n",
       "4             IT\n",
       "5        Finance\n",
       "Name: Department, dtype: object"
      ]
     },
     "execution_count": 9,
     "metadata": {},
     "output_type": "execute_result"
    }
   ],
   "source": [
    "df.loc[[0, 1, 2, 3, 4, 5], 'Department']  #df.loc[0:5, 'Department']"
   ]
  },
  {
   "cell_type": "code",
   "execution_count": 10,
   "id": "23910be8-4900-4f0b-bb1c-391d0440fab8",
   "metadata": {},
   "outputs": [
    {
     "data": {
      "text/plain": [
       "0             HR\n",
       "1          Sales\n",
       "2        Support\n",
       "3    Engineering\n",
       "4             IT\n",
       "5        Finance\n",
       "Name: Department, dtype: object"
      ]
     },
     "execution_count": 10,
     "metadata": {},
     "output_type": "execute_result"
    }
   ],
   "source": [
    "df.loc[0:5, 'Department']   #df.loc[[0, 1, 2, 3, 4, 5], 'Department']"
   ]
  },
  {
   "cell_type": "code",
   "execution_count": 11,
   "id": "7788d132-1ef2-4e6c-9a42-de1bc8ffd2c7",
   "metadata": {},
   "outputs": [
    {
     "data": {
      "text/html": [
       "<div>\n",
       "<style scoped>\n",
       "    .dataframe tbody tr th:only-of-type {\n",
       "        vertical-align: middle;\n",
       "    }\n",
       "\n",
       "    .dataframe tbody tr th {\n",
       "        vertical-align: top;\n",
       "    }\n",
       "\n",
       "    .dataframe thead th {\n",
       "        text-align: right;\n",
       "    }\n",
       "</style>\n",
       "<table border=\"1\" class=\"dataframe\">\n",
       "  <thead>\n",
       "    <tr style=\"text-align: right;\">\n",
       "      <th></th>\n",
       "      <th>Name</th>\n",
       "      <th>Age</th>\n",
       "      <th>Gender</th>\n",
       "      <th>Department</th>\n",
       "      <th>JobTitle</th>\n",
       "      <th>Salary</th>\n",
       "      <th>DateOfJoining</th>\n",
       "      <th>MaritalStatus</th>\n",
       "      <th>Education</th>\n",
       "      <th>OverTime</th>\n",
       "      <th>MonthlyIncome</th>\n",
       "      <th>Hobbies</th>\n",
       "      <th>ProgrammingSkills</th>\n",
       "    </tr>\n",
       "  </thead>\n",
       "  <tbody>\n",
       "    <tr>\n",
       "      <th>0</th>\n",
       "      <td>George Williams</td>\n",
       "      <td>50</td>\n",
       "      <td>Male</td>\n",
       "      <td>HR</td>\n",
       "      <td>Consultant</td>\n",
       "      <td>65057</td>\n",
       "      <td>10/8/2017</td>\n",
       "      <td>Single</td>\n",
       "      <td>Master</td>\n",
       "      <td>Yes</td>\n",
       "      <td>6705</td>\n",
       "      <td>Gaming, Cooking</td>\n",
       "      <td>Go, SQL, PHP</td>\n",
       "    </tr>\n",
       "    <tr>\n",
       "      <th>1</th>\n",
       "      <td>Jane Brown</td>\n",
       "      <td>36</td>\n",
       "      <td>Female</td>\n",
       "      <td>Sales</td>\n",
       "      <td>Executive</td>\n",
       "      <td>31239</td>\n",
       "      <td>3/7/2021</td>\n",
       "      <td>Single</td>\n",
       "      <td>PhD</td>\n",
       "      <td>No</td>\n",
       "      <td>3044</td>\n",
       "      <td>Traveling</td>\n",
       "      <td>NaN</td>\n",
       "    </tr>\n",
       "    <tr>\n",
       "      <th>2</th>\n",
       "      <td>George Johnson</td>\n",
       "      <td>29</td>\n",
       "      <td>Female</td>\n",
       "      <td>Support</td>\n",
       "      <td>Manager</td>\n",
       "      <td>95661</td>\n",
       "      <td>9/27/2016</td>\n",
       "      <td>Single</td>\n",
       "      <td>High School</td>\n",
       "      <td>Yes</td>\n",
       "      <td>4901</td>\n",
       "      <td>Traveling, Gardening</td>\n",
       "      <td>Ruby, SQL, JavaScript</td>\n",
       "    </tr>\n",
       "    <tr>\n",
       "      <th>3</th>\n",
       "      <td>Hannah Williams</td>\n",
       "      <td>42</td>\n",
       "      <td>Other</td>\n",
       "      <td>Engineering</td>\n",
       "      <td>Manager</td>\n",
       "      <td>75272</td>\n",
       "      <td>11/18/2018</td>\n",
       "      <td>Single</td>\n",
       "      <td>PhD</td>\n",
       "      <td>No</td>\n",
       "      <td>7338</td>\n",
       "      <td>Photography</td>\n",
       "      <td>Ruby</td>\n",
       "    </tr>\n",
       "    <tr>\n",
       "      <th>4</th>\n",
       "      <td>George Davis</td>\n",
       "      <td>40</td>\n",
       "      <td>Other</td>\n",
       "      <td>IT</td>\n",
       "      <td>Developer</td>\n",
       "      <td>119393</td>\n",
       "      <td>3/14/2019</td>\n",
       "      <td>Married</td>\n",
       "      <td>Master</td>\n",
       "      <td>Yes</td>\n",
       "      <td>4864</td>\n",
       "      <td>Music, Cooking</td>\n",
       "      <td>Java, Go</td>\n",
       "    </tr>\n",
       "    <tr>\n",
       "      <th>5</th>\n",
       "      <td>Diana Garcia</td>\n",
       "      <td>44</td>\n",
       "      <td>Male</td>\n",
       "      <td>Finance</td>\n",
       "      <td>Technician</td>\n",
       "      <td>91212</td>\n",
       "      <td>11/17/2011</td>\n",
       "      <td>Single</td>\n",
       "      <td>High School</td>\n",
       "      <td>No</td>\n",
       "      <td>3789</td>\n",
       "      <td>Music</td>\n",
       "      <td>Go, C++</td>\n",
       "    </tr>\n",
       "  </tbody>\n",
       "</table>\n",
       "</div>"
      ],
      "text/plain": [
       "              Name  Age  Gender   Department    JobTitle  Salary  \\\n",
       "0  George Williams   50    Male           HR  Consultant   65057   \n",
       "1       Jane Brown   36  Female        Sales   Executive   31239   \n",
       "2   George Johnson   29  Female      Support     Manager   95661   \n",
       "3  Hannah Williams   42   Other  Engineering     Manager   75272   \n",
       "4     George Davis   40   Other           IT   Developer  119393   \n",
       "5     Diana Garcia   44    Male      Finance  Technician   91212   \n",
       "\n",
       "  DateOfJoining MaritalStatus    Education OverTime  MonthlyIncome  \\\n",
       "0     10/8/2017        Single       Master      Yes           6705   \n",
       "1      3/7/2021        Single          PhD       No           3044   \n",
       "2     9/27/2016        Single  High School      Yes           4901   \n",
       "3    11/18/2018        Single          PhD       No           7338   \n",
       "4     3/14/2019       Married       Master      Yes           4864   \n",
       "5    11/17/2011        Single  High School       No           3789   \n",
       "\n",
       "                Hobbies      ProgrammingSkills  \n",
       "0       Gaming, Cooking           Go, SQL, PHP  \n",
       "1             Traveling                    NaN  \n",
       "2  Traveling, Gardening  Ruby, SQL, JavaScript  \n",
       "3           Photography                   Ruby  \n",
       "4        Music, Cooking               Java, Go  \n",
       "5                 Music                Go, C++  "
      ]
     },
     "execution_count": 11,
     "metadata": {},
     "output_type": "execute_result"
    }
   ],
   "source": [
    "df.loc[[0, 1, 2, 3, 4, 5], ['Name', 'Age', 'Gender', 'Department', 'JobTitle', 'Salary', 'DateOfJoining', 'MaritalStatus',\n",
    "                            'Education', 'OverTime', 'MonthlyIncome', 'Hobbies', 'ProgrammingSkills']]   #df.loc[0:5, \"Name\":\"ProgrammingSkills\"] "
   ]
  },
  {
   "cell_type": "code",
   "execution_count": 12,
   "id": "0ab067fc-43f7-4990-99ac-744ec5709cae",
   "metadata": {},
   "outputs": [
    {
     "data": {
      "text/html": [
       "<div>\n",
       "<style scoped>\n",
       "    .dataframe tbody tr th:only-of-type {\n",
       "        vertical-align: middle;\n",
       "    }\n",
       "\n",
       "    .dataframe tbody tr th {\n",
       "        vertical-align: top;\n",
       "    }\n",
       "\n",
       "    .dataframe thead th {\n",
       "        text-align: right;\n",
       "    }\n",
       "</style>\n",
       "<table border=\"1\" class=\"dataframe\">\n",
       "  <thead>\n",
       "    <tr style=\"text-align: right;\">\n",
       "      <th></th>\n",
       "      <th>Name</th>\n",
       "      <th>Age</th>\n",
       "      <th>Gender</th>\n",
       "      <th>Department</th>\n",
       "      <th>JobTitle</th>\n",
       "      <th>Salary</th>\n",
       "      <th>DateOfJoining</th>\n",
       "      <th>MaritalStatus</th>\n",
       "      <th>Education</th>\n",
       "      <th>OverTime</th>\n",
       "      <th>MonthlyIncome</th>\n",
       "      <th>Hobbies</th>\n",
       "      <th>ProgrammingSkills</th>\n",
       "    </tr>\n",
       "  </thead>\n",
       "  <tbody>\n",
       "    <tr>\n",
       "      <th>0</th>\n",
       "      <td>George Williams</td>\n",
       "      <td>50</td>\n",
       "      <td>Male</td>\n",
       "      <td>HR</td>\n",
       "      <td>Consultant</td>\n",
       "      <td>65057</td>\n",
       "      <td>10/8/2017</td>\n",
       "      <td>Single</td>\n",
       "      <td>Master</td>\n",
       "      <td>Yes</td>\n",
       "      <td>6705</td>\n",
       "      <td>Gaming, Cooking</td>\n",
       "      <td>Go, SQL, PHP</td>\n",
       "    </tr>\n",
       "    <tr>\n",
       "      <th>1</th>\n",
       "      <td>Jane Brown</td>\n",
       "      <td>36</td>\n",
       "      <td>Female</td>\n",
       "      <td>Sales</td>\n",
       "      <td>Executive</td>\n",
       "      <td>31239</td>\n",
       "      <td>3/7/2021</td>\n",
       "      <td>Single</td>\n",
       "      <td>PhD</td>\n",
       "      <td>No</td>\n",
       "      <td>3044</td>\n",
       "      <td>Traveling</td>\n",
       "      <td>NaN</td>\n",
       "    </tr>\n",
       "    <tr>\n",
       "      <th>2</th>\n",
       "      <td>George Johnson</td>\n",
       "      <td>29</td>\n",
       "      <td>Female</td>\n",
       "      <td>Support</td>\n",
       "      <td>Manager</td>\n",
       "      <td>95661</td>\n",
       "      <td>9/27/2016</td>\n",
       "      <td>Single</td>\n",
       "      <td>High School</td>\n",
       "      <td>Yes</td>\n",
       "      <td>4901</td>\n",
       "      <td>Traveling, Gardening</td>\n",
       "      <td>Ruby, SQL, JavaScript</td>\n",
       "    </tr>\n",
       "    <tr>\n",
       "      <th>3</th>\n",
       "      <td>Hannah Williams</td>\n",
       "      <td>42</td>\n",
       "      <td>Other</td>\n",
       "      <td>Engineering</td>\n",
       "      <td>Manager</td>\n",
       "      <td>75272</td>\n",
       "      <td>11/18/2018</td>\n",
       "      <td>Single</td>\n",
       "      <td>PhD</td>\n",
       "      <td>No</td>\n",
       "      <td>7338</td>\n",
       "      <td>Photography</td>\n",
       "      <td>Ruby</td>\n",
       "    </tr>\n",
       "    <tr>\n",
       "      <th>4</th>\n",
       "      <td>George Davis</td>\n",
       "      <td>40</td>\n",
       "      <td>Other</td>\n",
       "      <td>IT</td>\n",
       "      <td>Developer</td>\n",
       "      <td>119393</td>\n",
       "      <td>3/14/2019</td>\n",
       "      <td>Married</td>\n",
       "      <td>Master</td>\n",
       "      <td>Yes</td>\n",
       "      <td>4864</td>\n",
       "      <td>Music, Cooking</td>\n",
       "      <td>Java, Go</td>\n",
       "    </tr>\n",
       "    <tr>\n",
       "      <th>5</th>\n",
       "      <td>Diana Garcia</td>\n",
       "      <td>44</td>\n",
       "      <td>Male</td>\n",
       "      <td>Finance</td>\n",
       "      <td>Technician</td>\n",
       "      <td>91212</td>\n",
       "      <td>11/17/2011</td>\n",
       "      <td>Single</td>\n",
       "      <td>High School</td>\n",
       "      <td>No</td>\n",
       "      <td>3789</td>\n",
       "      <td>Music</td>\n",
       "      <td>Go, C++</td>\n",
       "    </tr>\n",
       "  </tbody>\n",
       "</table>\n",
       "</div>"
      ],
      "text/plain": [
       "              Name  Age  Gender   Department    JobTitle  Salary  \\\n",
       "0  George Williams   50    Male           HR  Consultant   65057   \n",
       "1       Jane Brown   36  Female        Sales   Executive   31239   \n",
       "2   George Johnson   29  Female      Support     Manager   95661   \n",
       "3  Hannah Williams   42   Other  Engineering     Manager   75272   \n",
       "4     George Davis   40   Other           IT   Developer  119393   \n",
       "5     Diana Garcia   44    Male      Finance  Technician   91212   \n",
       "\n",
       "  DateOfJoining MaritalStatus    Education OverTime  MonthlyIncome  \\\n",
       "0     10/8/2017        Single       Master      Yes           6705   \n",
       "1      3/7/2021        Single          PhD       No           3044   \n",
       "2     9/27/2016        Single  High School      Yes           4901   \n",
       "3    11/18/2018        Single          PhD       No           7338   \n",
       "4     3/14/2019       Married       Master      Yes           4864   \n",
       "5    11/17/2011        Single  High School       No           3789   \n",
       "\n",
       "                Hobbies      ProgrammingSkills  \n",
       "0       Gaming, Cooking           Go, SQL, PHP  \n",
       "1             Traveling                    NaN  \n",
       "2  Traveling, Gardening  Ruby, SQL, JavaScript  \n",
       "3           Photography                   Ruby  \n",
       "4        Music, Cooking               Java, Go  \n",
       "5                 Music                Go, C++  "
      ]
     },
     "execution_count": 12,
     "metadata": {},
     "output_type": "execute_result"
    }
   ],
   "source": [
    "df.loc[0:5, \"Name\":\"ProgrammingSkills\"]   #df.loc[[0, 1, 2, 3, 4, 5], ['Name', 'Age', 'Gender', 'Department', 'JobTitle', 'Salary', 'DateOfJoining', 'MaritalStatus','Education', 'OverTime', 'MonthlyIncome', 'Hobbies', 'ProgrammingSkills']]"
   ]
  },
  {
   "cell_type": "code",
   "execution_count": null,
   "id": "c2f82e93-9f95-490f-bff5-e7b603acc87f",
   "metadata": {},
   "outputs": [],
   "source": []
  },
  {
   "cell_type": "code",
   "execution_count": null,
   "id": "5051114b-3432-441a-81c0-a583b6095ca6",
   "metadata": {},
   "outputs": [],
   "source": []
  },
  {
   "cell_type": "markdown",
   "id": "2b393a77-e8c4-42d1-9e81-21b29dc8af30",
   "metadata": {},
   "source": [
    "## Data Frame (dict)"
   ]
  },
  {
   "cell_type": "code",
   "execution_count": 13,
   "id": "f013d2d1-c00b-4289-a9ad-712e738defbd",
   "metadata": {},
   "outputs": [],
   "source": [
    "Person = {\n",
    "    \"First Name\" : \"Asif Antaj\",\n",
    "    \"Last Name\" : \"Robin\",\n",
    "    \"Email\" : \"asifantajrobin@gmal.com\"\n",
    "}"
   ]
  },
  {
   "cell_type": "code",
   "execution_count": 14,
   "id": "4ae89e0a-edce-474c-8cf6-518a60d606d0",
   "metadata": {},
   "outputs": [],
   "source": [
    "People = {\n",
    "    \"First Name\" : [\"Asif Antaj\", \"Afrin Jahan\", \"Afifa Jahan\", \"Asif Antaj\"],\n",
    "    \"Last Name\" : [\"Robin\", \"Rupa\", \"Rafa\", \"Rayhan\"],\n",
    "    \"Email\" : [\"asifantajrobin@gmal.com\", \"afrin@gmail.com\", \"afifa@gmail.com\", \"asif@gmail.com\"]\n",
    "}"
   ]
  },
  {
   "cell_type": "code",
   "execution_count": 15,
   "id": "7cd6d13d-fb7b-4324-9848-09089926c791",
   "metadata": {},
   "outputs": [
    {
     "data": {
      "text/plain": [
       "['asifantajrobin@gmal.com',\n",
       " 'afrin@gmail.com',\n",
       " 'afifa@gmail.com',\n",
       " 'asif@gmail.com']"
      ]
     },
     "execution_count": 15,
     "metadata": {},
     "output_type": "execute_result"
    }
   ],
   "source": [
    "People['Email']"
   ]
  },
  {
   "cell_type": "code",
   "execution_count": 16,
   "id": "31fe7dd8-df3a-4f66-b38f-da660c4e762c",
   "metadata": {},
   "outputs": [
    {
     "data": {
      "text/html": [
       "<div>\n",
       "<style scoped>\n",
       "    .dataframe tbody tr th:only-of-type {\n",
       "        vertical-align: middle;\n",
       "    }\n",
       "\n",
       "    .dataframe tbody tr th {\n",
       "        vertical-align: top;\n",
       "    }\n",
       "\n",
       "    .dataframe thead th {\n",
       "        text-align: right;\n",
       "    }\n",
       "</style>\n",
       "<table border=\"1\" class=\"dataframe\">\n",
       "  <thead>\n",
       "    <tr style=\"text-align: right;\">\n",
       "      <th></th>\n",
       "      <th>First Name</th>\n",
       "      <th>Last Name</th>\n",
       "      <th>Email</th>\n",
       "    </tr>\n",
       "  </thead>\n",
       "  <tbody>\n",
       "    <tr>\n",
       "      <th>0</th>\n",
       "      <td>Asif Antaj</td>\n",
       "      <td>Robin</td>\n",
       "      <td>asifantajrobin@gmal.com</td>\n",
       "    </tr>\n",
       "    <tr>\n",
       "      <th>1</th>\n",
       "      <td>Afrin Jahan</td>\n",
       "      <td>Rupa</td>\n",
       "      <td>afrin@gmail.com</td>\n",
       "    </tr>\n",
       "    <tr>\n",
       "      <th>2</th>\n",
       "      <td>Afifa Jahan</td>\n",
       "      <td>Rafa</td>\n",
       "      <td>afifa@gmail.com</td>\n",
       "    </tr>\n",
       "    <tr>\n",
       "      <th>3</th>\n",
       "      <td>Asif Antaj</td>\n",
       "      <td>Rayhan</td>\n",
       "      <td>asif@gmail.com</td>\n",
       "    </tr>\n",
       "  </tbody>\n",
       "</table>\n",
       "</div>"
      ],
      "text/plain": [
       "    First Name Last Name                    Email\n",
       "0   Asif Antaj     Robin  asifantajrobin@gmal.com\n",
       "1  Afrin Jahan      Rupa          afrin@gmail.com\n",
       "2  Afifa Jahan      Rafa          afifa@gmail.com\n",
       "3   Asif Antaj    Rayhan           asif@gmail.com"
      ]
     },
     "execution_count": 16,
     "metadata": {},
     "output_type": "execute_result"
    }
   ],
   "source": [
    "dict_df = pd.DataFrame(People)\n",
    "dict_df"
   ]
  },
  {
   "cell_type": "code",
   "execution_count": 17,
   "id": "223294fb-8e40-4f18-a0c5-301be83888a7",
   "metadata": {},
   "outputs": [
    {
     "data": {
      "text/plain": [
       "0    asifantajrobin@gmal.com\n",
       "1            afrin@gmail.com\n",
       "2            afifa@gmail.com\n",
       "3             asif@gmail.com\n",
       "Name: Email, dtype: object"
      ]
     },
     "execution_count": 17,
     "metadata": {},
     "output_type": "execute_result"
    }
   ],
   "source": [
    "dict_df['Email']"
   ]
  },
  {
   "cell_type": "code",
   "execution_count": 18,
   "id": "a334df6b-220b-4951-b74b-947c30aca143",
   "metadata": {},
   "outputs": [
    {
     "data": {
      "text/plain": [
       "0    asifantajrobin@gmal.com\n",
       "1            afrin@gmail.com\n",
       "2            afifa@gmail.com\n",
       "3             asif@gmail.com\n",
       "Name: Email, dtype: object"
      ]
     },
     "execution_count": 18,
     "metadata": {},
     "output_type": "execute_result"
    }
   ],
   "source": [
    "dict_df.Email"
   ]
  },
  {
   "cell_type": "code",
   "execution_count": 19,
   "id": "561e1084-aebd-42c1-a19f-fdf6ef2a7222",
   "metadata": {},
   "outputs": [
    {
     "data": {
      "text/html": [
       "<div>\n",
       "<style scoped>\n",
       "    .dataframe tbody tr th:only-of-type {\n",
       "        vertical-align: middle;\n",
       "    }\n",
       "\n",
       "    .dataframe tbody tr th {\n",
       "        vertical-align: top;\n",
       "    }\n",
       "\n",
       "    .dataframe thead th {\n",
       "        text-align: right;\n",
       "    }\n",
       "</style>\n",
       "<table border=\"1\" class=\"dataframe\">\n",
       "  <thead>\n",
       "    <tr style=\"text-align: right;\">\n",
       "      <th></th>\n",
       "      <th>First Name</th>\n",
       "      <th>Email</th>\n",
       "    </tr>\n",
       "  </thead>\n",
       "  <tbody>\n",
       "    <tr>\n",
       "      <th>0</th>\n",
       "      <td>Asif Antaj</td>\n",
       "      <td>asifantajrobin@gmal.com</td>\n",
       "    </tr>\n",
       "    <tr>\n",
       "      <th>1</th>\n",
       "      <td>Afrin Jahan</td>\n",
       "      <td>afrin@gmail.com</td>\n",
       "    </tr>\n",
       "    <tr>\n",
       "      <th>2</th>\n",
       "      <td>Afifa Jahan</td>\n",
       "      <td>afifa@gmail.com</td>\n",
       "    </tr>\n",
       "    <tr>\n",
       "      <th>3</th>\n",
       "      <td>Asif Antaj</td>\n",
       "      <td>asif@gmail.com</td>\n",
       "    </tr>\n",
       "  </tbody>\n",
       "</table>\n",
       "</div>"
      ],
      "text/plain": [
       "    First Name                    Email\n",
       "0   Asif Antaj  asifantajrobin@gmal.com\n",
       "1  Afrin Jahan          afrin@gmail.com\n",
       "2  Afifa Jahan          afifa@gmail.com\n",
       "3   Asif Antaj           asif@gmail.com"
      ]
     },
     "execution_count": 19,
     "metadata": {},
     "output_type": "execute_result"
    }
   ],
   "source": [
    "dict_df[[\"First Name\", \"Email\"]]"
   ]
  },
  {
   "cell_type": "code",
   "execution_count": 20,
   "id": "bc71fcc9-c6b5-4312-8a69-68665455a350",
   "metadata": {},
   "outputs": [
    {
     "data": {
      "text/plain": [
       "Index(['First Name', 'Last Name', 'Email'], dtype='object')"
      ]
     },
     "execution_count": 20,
     "metadata": {},
     "output_type": "execute_result"
    }
   ],
   "source": [
    "dict_df.columns"
   ]
  },
  {
   "cell_type": "code",
   "execution_count": 21,
   "id": "c85ef033-b162-4bdc-b006-f5093daf7745",
   "metadata": {},
   "outputs": [
    {
     "data": {
      "text/plain": [
       "(4, 3)"
      ]
     },
     "execution_count": 21,
     "metadata": {},
     "output_type": "execute_result"
    }
   ],
   "source": [
    "dict_df.shape"
   ]
  },
  {
   "cell_type": "code",
   "execution_count": 22,
   "id": "362402d3-02cc-4cd6-a6e8-677722a72dbf",
   "metadata": {},
   "outputs": [
    {
     "data": {
      "text/plain": [
       "First Name                 Asif Antaj\n",
       "Last Name                       Robin\n",
       "Email         asifantajrobin@gmal.com\n",
       "Name: 0, dtype: object"
      ]
     },
     "execution_count": 22,
     "metadata": {},
     "output_type": "execute_result"
    }
   ],
   "source": [
    "dict_df.iloc[0]"
   ]
  },
  {
   "cell_type": "code",
   "execution_count": 23,
   "id": "1feadd38-c7c7-4554-adf6-c1dd843e254a",
   "metadata": {},
   "outputs": [
    {
     "data": {
      "text/html": [
       "<div>\n",
       "<style scoped>\n",
       "    .dataframe tbody tr th:only-of-type {\n",
       "        vertical-align: middle;\n",
       "    }\n",
       "\n",
       "    .dataframe tbody tr th {\n",
       "        vertical-align: top;\n",
       "    }\n",
       "\n",
       "    .dataframe thead th {\n",
       "        text-align: right;\n",
       "    }\n",
       "</style>\n",
       "<table border=\"1\" class=\"dataframe\">\n",
       "  <thead>\n",
       "    <tr style=\"text-align: right;\">\n",
       "      <th></th>\n",
       "      <th>First Name</th>\n",
       "      <th>Last Name</th>\n",
       "      <th>Email</th>\n",
       "    </tr>\n",
       "  </thead>\n",
       "  <tbody>\n",
       "    <tr>\n",
       "      <th>0</th>\n",
       "      <td>Asif Antaj</td>\n",
       "      <td>Robin</td>\n",
       "      <td>asifantajrobin@gmal.com</td>\n",
       "    </tr>\n",
       "    <tr>\n",
       "      <th>1</th>\n",
       "      <td>Afrin Jahan</td>\n",
       "      <td>Rupa</td>\n",
       "      <td>afrin@gmail.com</td>\n",
       "    </tr>\n",
       "  </tbody>\n",
       "</table>\n",
       "</div>"
      ],
      "text/plain": [
       "    First Name Last Name                    Email\n",
       "0   Asif Antaj     Robin  asifantajrobin@gmal.com\n",
       "1  Afrin Jahan      Rupa          afrin@gmail.com"
      ]
     },
     "execution_count": 23,
     "metadata": {},
     "output_type": "execute_result"
    }
   ],
   "source": [
    "dict_df.loc[[0, 1]]"
   ]
  },
  {
   "cell_type": "code",
   "execution_count": 24,
   "id": "facae781-86f9-4dbd-bcce-425dbd2c540b",
   "metadata": {},
   "outputs": [
    {
     "data": {
      "text/html": [
       "<div>\n",
       "<style scoped>\n",
       "    .dataframe tbody tr th:only-of-type {\n",
       "        vertical-align: middle;\n",
       "    }\n",
       "\n",
       "    .dataframe tbody tr th {\n",
       "        vertical-align: top;\n",
       "    }\n",
       "\n",
       "    .dataframe thead th {\n",
       "        text-align: right;\n",
       "    }\n",
       "</style>\n",
       "<table border=\"1\" class=\"dataframe\">\n",
       "  <thead>\n",
       "    <tr style=\"text-align: right;\">\n",
       "      <th></th>\n",
       "      <th>Email</th>\n",
       "    </tr>\n",
       "  </thead>\n",
       "  <tbody>\n",
       "    <tr>\n",
       "      <th>0</th>\n",
       "      <td>asifantajrobin@gmal.com</td>\n",
       "    </tr>\n",
       "    <tr>\n",
       "      <th>1</th>\n",
       "      <td>afrin@gmail.com</td>\n",
       "    </tr>\n",
       "  </tbody>\n",
       "</table>\n",
       "</div>"
      ],
      "text/plain": [
       "                     Email\n",
       "0  asifantajrobin@gmal.com\n",
       "1          afrin@gmail.com"
      ]
     },
     "execution_count": 24,
     "metadata": {},
     "output_type": "execute_result"
    }
   ],
   "source": [
    "dict_df.iloc[[0, 1], [2]]"
   ]
  },
  {
   "cell_type": "code",
   "execution_count": 25,
   "id": "84a5e44a-68d8-4203-a032-6cbe421b88c0",
   "metadata": {},
   "outputs": [
    {
     "data": {
      "text/html": [
       "<div>\n",
       "<style scoped>\n",
       "    .dataframe tbody tr th:only-of-type {\n",
       "        vertical-align: middle;\n",
       "    }\n",
       "\n",
       "    .dataframe tbody tr th {\n",
       "        vertical-align: top;\n",
       "    }\n",
       "\n",
       "    .dataframe thead th {\n",
       "        text-align: right;\n",
       "    }\n",
       "</style>\n",
       "<table border=\"1\" class=\"dataframe\">\n",
       "  <thead>\n",
       "    <tr style=\"text-align: right;\">\n",
       "      <th></th>\n",
       "      <th>First Name</th>\n",
       "      <th>Email</th>\n",
       "    </tr>\n",
       "  </thead>\n",
       "  <tbody>\n",
       "    <tr>\n",
       "      <th>0</th>\n",
       "      <td>Asif Antaj</td>\n",
       "      <td>asifantajrobin@gmal.com</td>\n",
       "    </tr>\n",
       "    <tr>\n",
       "      <th>1</th>\n",
       "      <td>Afrin Jahan</td>\n",
       "      <td>afrin@gmail.com</td>\n",
       "    </tr>\n",
       "  </tbody>\n",
       "</table>\n",
       "</div>"
      ],
      "text/plain": [
       "    First Name                    Email\n",
       "0   Asif Antaj  asifantajrobin@gmal.com\n",
       "1  Afrin Jahan          afrin@gmail.com"
      ]
     },
     "execution_count": 25,
     "metadata": {},
     "output_type": "execute_result"
    }
   ],
   "source": [
    "dict_df.loc[[0,1], [\"First Name\", \"Email\"]]"
   ]
  },
  {
   "cell_type": "code",
   "execution_count": null,
   "id": "2cc54d39-c566-4dc4-a7cd-7683b5308f63",
   "metadata": {},
   "outputs": [],
   "source": []
  },
  {
   "cell_type": "code",
   "execution_count": null,
   "id": "a7371dad-c82c-44b9-8729-65139b65a0cd",
   "metadata": {},
   "outputs": [],
   "source": []
  },
  {
   "cell_type": "raw",
   "id": "163680f3-bb3e-40de-8edf-de31dbd459e2",
   "metadata": {},
   "source": [
    "Asif Antaj Robin\n",
    "Cumilla Polytechnic Institute (CPI)\n",
    "Computer Science and Technology (CST)\n",
    "Phone Number : 01312531960"
   ]
  }
 ],
 "metadata": {
  "kernelspec": {
   "display_name": "Python 3 (ipykernel)",
   "language": "python",
   "name": "python3"
  },
  "language_info": {
   "codemirror_mode": {
    "name": "ipython",
    "version": 3
   },
   "file_extension": ".py",
   "mimetype": "text/x-python",
   "name": "python",
   "nbconvert_exporter": "python",
   "pygments_lexer": "ipython3",
   "version": "3.13.1"
  }
 },
 "nbformat": 4,
 "nbformat_minor": 5
}
